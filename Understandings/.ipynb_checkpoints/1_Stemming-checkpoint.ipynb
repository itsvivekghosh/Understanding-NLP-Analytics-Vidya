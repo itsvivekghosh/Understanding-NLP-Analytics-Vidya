{
 "cells": [
  {
   "cell_type": "code",
   "execution_count": 1,
   "metadata": {},
   "outputs": [],
   "source": [
    "import pandas as pd\n",
    "import numpy as np\n",
    "import nltk\n",
    "from nltk.stem.porter import PorterStemmer\n",
    "from nltk.corpus import stopwords"
   ]
  },
  {
   "cell_type": "code",
   "execution_count": 2,
   "metadata": {},
   "outputs": [
    {
     "data": {
      "text/plain": [
       "'i am honored to be with you today at your commencement from one of the finest universities in the world. i never graduated from college. truth be told, this is the closest i’ve ever gotten to a college graduation. today i want to tell you three stories from my life. that’s it. no big deal. just three stories.\\n\\nrelated to this story\\n2005 stanford commencement coverage\\nthe first story is about connecting the dots.\\n\\ni dropped out of reed college after the first 6 months, but then stayed around as a drop-in for another 18 months or so before i really quit. so why did i drop out?\\n\\nit started before i was born. my biological mother was a young, unwed college graduate student, and she decided to put me up for adoption. she felt very strongly that i should be adopted by college graduates, so everything was all set for me to be adopted at birth by a lawyer and his wife. except that when i popped out they decided at the last minute that they really wanted a girl. so my parents, who were on a waiting list, got a call in the middle of the night asking: “we have an unexpected baby boy; do you want him?” they said: “of course.” my biological mother later found out that my mother had never graduated from college and that my father had never graduated from high school. she refused to sign the final adoption papers. she only relented a few months later when my parents promised that i would someday go to college.\\n\\nand 17 years later i did go to college. but i naively chose a college that was almost as expensive as stanford, and all of my working-class parents’ savings were being spent on my college tuition. after six months, i couldn’t see the value in it. i had no idea what i wanted to do with my life and no idea how college was going to help me figure it out. and here i was spending all of the money my parents had saved their entire life. so i decided to drop out and trust that it would all work out ok. it was pretty scary at the time, but looking back it was one of the best decisions i ever made. the minute i dropped out i could stop taking the required classes that didn’t interest me, and begin dropping in on the ones that looked interesting.\\n\\nit wasn’t all romantic. i didn’t have a dorm room, so i slept on the floor in friends’ rooms, i returned coke bottles for the 5¢ deposits to buy food with, and i would walk the 7 miles across town every sunday night to get one good meal a week at the hare krishna temple. i loved it. and much of what i stumbled into by following my curiosity and intuition turned out to be priceless later on. let me give you one example:\\n\\nreed college at that time offered perhaps the best calligraphy instruction in the country. throughout the campus every poster, every label on every drawer, was beautifully hand calligraphed. because i had dropped out and didn’t have to take the normal classes, i decided to take a calligraphy class to learn how to do this. i learned about serif and sans serif typefaces, about varying the amount of space between different letter combinations, about what makes great typography great. it was beautiful, historical, artistically subtle in a way that science can’t capture, and i found it fascinating.\\n\\nnone of this had even a hope of any practical application in my life. but 10 years later, when we were designing the first macintosh computer, it all came back to me. and we designed it all into the mac. it was the first computer with beautiful typography. if i had never dropped in on that single course in college, the mac would have never had multiple typefaces or proportionally spaced fonts. and since windows just copied the mac, it’s likely that no personal computer would have them. if i had never dropped out, i would have never dropped in on this calligraphy class, and personal computers might not have the wonderful typography that they do. of course it was impossible to connect the dots looking forward when i was in college. but it was very, very clear looking backward 10 years later.\\n\\nagain, you can’t connect the dots looking forward; you can only connect them looking backward. so you have to trust that the dots will somehow connect in your future. you have to trust in something — your gut, destiny, life, karma, whatever. this approach has never let me down, and it has made all the difference in my life.\\n\\nmy second story is about love and loss.\\n\\ni was lucky — i found what i loved to do early in life. woz and i started apple in my parents’ garage when i was 20. we worked hard, and in 10 years apple had grown from just the two of us in a garage into a $2 billion company with over 4,000 employees. we had just released our finest creation — the macintosh — a year earlier, and i had just turned 30. and then i got fired. how can you get fired from a company you started? well, as apple grew we hired someone who i thought was very talented to run the company with me, and for the first year or so things went well. but then our visions of the future began to diverge and eventually we had a falling out. when we did, our board of directors sided with him. so at 30 i was out. and very publicly out. what had been the focus of my entire adult life was gone, and it was devastating.\\n\\ni really didn’t know what to do for a few months. i felt that i had let the previous generation of entrepreneurs down — that i had dropped the baton as it was being passed to me. i met with david packard and bob noyce and tried to apologize for screwing up so badly. i was a very public failure, and i even thought about running away from the valley. but something slowly began to dawn on me — i still loved what i did. the turn of events at apple had not changed that one bit. i had been rejected, but i was still in love. and so i decided to start over.\\n\\ni didn’t see it then, but it turned out that getting fired from apple was the best thing that could have ever happened to me. the heaviness of being successful was replaced by the lightness of being a beginner again, less sure about everything. it freed me to enter one of the most creative periods of my life.\\n\\nduring the next five years, i started a company named next, another company named pixar, and fell in love with an amazing woman who would become my wife. pixar went on to create the world’s first computer animated feature film, toy story, and is now the most successful animation studio in the world. in a remarkable turn of events, apple bought next, i returned to apple, and the technology we developed at next is at the heart of apple’s current renaissance. and laurene and i have a wonderful family together.\\n\\ni’m pretty sure none of this would have happened if i hadn’t been fired from apple. it was awful tasting medicine, but i guess the patient needed it. sometimes life hits you in the head with a brick. don’t lose faith. i’m convinced that the only thing that kept me going was that i loved what i did. you’ve got to find what you love. and that is as true for your work as it is for your lovers. your work is going to fill a large part of your life, and the only way to be truly satisfied is to do what you believe is great work. and the only way to do great work is to love what you do. if you haven’t found it yet, keep looking. don’t settle. as with all matters of the heart, you’ll know when you find it. and, like any great relationship, it just gets better and better as the years roll on. so keep looking until you find it. don’t settle.\\n\\nmy third story is about death.\\n\\nwhen i was 17, i read a quote that went something like: “if you live each day as if it was your last, someday you’ll most certainly be right.” it made an impression on me, and since then, for the past 33 years, i have looked in the mirror every morning and asked myself: “if today were the last day of my life, would i want to do what i am about to do today?” and whenever the answer has been “no” for too many days in a row, i know i need to change something.\\n\\nremembering that i’ll be dead soon is the most important tool i’ve ever encountered to help me make the big choices in life. because almost everything — all external expectations, all pride, all fear of embarrassment or failure — these things just fall away in the face of death, leaving only what is truly important. remembering that you are going to die is the best way i know to avoid the trap of thinking you have something to lose. you are already naked. there is no reason not to follow your heart.\\n\\nabout a year ago i was diagnosed with cancer. i had a scan at 7:30 in the morning, and it clearly showed a tumor on my pancreas. i didn’t even know what a pancreas was. the doctors told me this was almost certainly a type of cancer that is incurable, and that i should expect to live no longer than three to six months. my doctor advised me to go home and get my affairs in order, which is doctor’s code for prepare to die. it means to try to tell your kids everything you thought you’d have the next 10 years to tell them in just a few months. it means to make sure everything is buttoned up so that it will be as easy as possible for your family. it means to say your goodbyes.\\n\\ni lived with that diagnosis all day. later that evening i had a biopsy, where they stuck an endoscope down my throat, through my stomach and into my intestines, put a needle into my pancreas and got a few cells from the tumor. i was sedated, but my wife, who was there, told me that when they viewed the cells under a microscope the doctors started crying because it turned out to be a very rare form of pancreatic cancer that is curable with surgery. i had the surgery and i’m fine now.\\n\\nthis was the closest i’ve been to facing death, and i hope it’s the closest i get for a few more decades. having lived through it, i can now say this to you with a bit more certainty than when death was a useful but purely intellectual concept:\\n\\nno one wants to die. even people who want to go to heaven don’t want to die to get there. and yet death is the destination we all share. no one has ever escaped it. and that is as it should be, because death is very likely the single best invention of life. it is life’s change agent. it clears out the old to make way for the new. right now the new is you, but someday not too long from now, you will gradually become the old and be cleared away. sorry to be so dramatic, but it is quite true.\\n\\nyour time is limited, so don’t waste it living someone else’s life. don’t be trapped by dogma — which is living with the results of other people’s thinking. don’t let the noise of others’ opinions drown out your own inner voice. and most important, have the courage to follow your heart and intuition. they somehow already know what you truly want to become. everything else is secondary.\\n\\nwhen i was young, there was an amazing publication called the whole earth catalog, which was one of the bibles of my generation. it was created by a fellow named stewart brand not far from here in menlo park, and he brought it to life with his poetic touch. this was in the late 1960s, before personal computers and desktop publishing, so it was all made with typewriters, scissors and polaroid cameras. it was sort of like google in paperback form, 35 years before google came along: it was idealistic, and overflowing with neat tools and great notions.\\n\\nstewart and his team put out several issues of the whole earth catalog, and then when it had run its course, they put out a final issue. it was the mid-1970s, and i was your age. on the back cover of their final issue was a photograph of an early morning country road, the kind you might find yourself hitchhiking on if you were so adventurous. beneath it were the words: “stay hungry. stay foolish.” it was their farewell message as they signed off. stay hungry. stay foolish. and i have always wished that for myself. and now, as you graduate to begin anew, i wish that for you.\\n\\nstay hungry. stay foolish.\\n\\nthank you all very much.'"
      ]
     },
     "execution_count": 2,
     "metadata": {},
     "output_type": "execute_result"
    }
   ],
   "source": [
    "paragraph = open('../Learning/read.txt', encoding='utf-8').read().lower()\n",
    "paragraph"
   ]
  },
  {
   "cell_type": "code",
   "execution_count": 7,
   "metadata": {},
   "outputs": [
    {
     "data": {
      "text/plain": [
       "['i am honored to be with you today at your commencement from one of the finest universities in the world.',\n",
       " 'i never graduated from college.',\n",
       " 'truth be told, this is the closest i’ve ever gotten to a college graduation.',\n",
       " 'today i want to tell you three stories from my life.',\n",
       " 'that’s it.',\n",
       " 'no big deal.',\n",
       " 'just three stories.',\n",
       " 'related to this story\\n2005 stanford commencement coverage\\nthe first story is about connecting the dots.',\n",
       " 'i dropped out of reed college after the first 6 months, but then stayed around as a drop-in for another 18 months or so before i really quit.',\n",
       " 'so why did i drop out?',\n",
       " 'it started before i was born.',\n",
       " 'my biological mother was a young, unwed college graduate student, and she decided to put me up for adoption.',\n",
       " 'she felt very strongly that i should be adopted by college graduates, so everything was all set for me to be adopted at birth by a lawyer and his wife.',\n",
       " 'except that when i popped out they decided at the last minute that they really wanted a girl.',\n",
       " 'so my parents, who were on a waiting list, got a call in the middle of the night asking: “we have an unexpected baby boy; do you want him?” they said: “of course.” my biological mother later found out that my mother had never graduated from college and that my father had never graduated from high school.',\n",
       " 'she refused to sign the final adoption papers.',\n",
       " 'she only relented a few months later when my parents promised that i would someday go to college.',\n",
       " 'and 17 years later i did go to college.',\n",
       " 'but i naively chose a college that was almost as expensive as stanford, and all of my working-class parents’ savings were being spent on my college tuition.',\n",
       " 'after six months, i couldn’t see the value in it.',\n",
       " 'i had no idea what i wanted to do with my life and no idea how college was going to help me figure it out.',\n",
       " 'and here i was spending all of the money my parents had saved their entire life.',\n",
       " 'so i decided to drop out and trust that it would all work out ok. it was pretty scary at the time, but looking back it was one of the best decisions i ever made.',\n",
       " 'the minute i dropped out i could stop taking the required classes that didn’t interest me, and begin dropping in on the ones that looked interesting.',\n",
       " 'it wasn’t all romantic.',\n",
       " 'i didn’t have a dorm room, so i slept on the floor in friends’ rooms, i returned coke bottles for the 5¢ deposits to buy food with, and i would walk the 7 miles across town every sunday night to get one good meal a week at the hare krishna temple.',\n",
       " 'i loved it.',\n",
       " 'and much of what i stumbled into by following my curiosity and intuition turned out to be priceless later on.',\n",
       " 'let me give you one example:\\n\\nreed college at that time offered perhaps the best calligraphy instruction in the country.',\n",
       " 'throughout the campus every poster, every label on every drawer, was beautifully hand calligraphed.',\n",
       " 'because i had dropped out and didn’t have to take the normal classes, i decided to take a calligraphy class to learn how to do this.',\n",
       " 'i learned about serif and sans serif typefaces, about varying the amount of space between different letter combinations, about what makes great typography great.',\n",
       " 'it was beautiful, historical, artistically subtle in a way that science can’t capture, and i found it fascinating.',\n",
       " 'none of this had even a hope of any practical application in my life.',\n",
       " 'but 10 years later, when we were designing the first macintosh computer, it all came back to me.',\n",
       " 'and we designed it all into the mac.',\n",
       " 'it was the first computer with beautiful typography.',\n",
       " 'if i had never dropped in on that single course in college, the mac would have never had multiple typefaces or proportionally spaced fonts.',\n",
       " 'and since windows just copied the mac, it’s likely that no personal computer would have them.',\n",
       " 'if i had never dropped out, i would have never dropped in on this calligraphy class, and personal computers might not have the wonderful typography that they do.',\n",
       " 'of course it was impossible to connect the dots looking forward when i was in college.',\n",
       " 'but it was very, very clear looking backward 10 years later.',\n",
       " 'again, you can’t connect the dots looking forward; you can only connect them looking backward.',\n",
       " 'so you have to trust that the dots will somehow connect in your future.',\n",
       " 'you have to trust in something — your gut, destiny, life, karma, whatever.',\n",
       " 'this approach has never let me down, and it has made all the difference in my life.',\n",
       " 'my second story is about love and loss.',\n",
       " 'i was lucky — i found what i loved to do early in life.',\n",
       " 'woz and i started apple in my parents’ garage when i was 20. we worked hard, and in 10 years apple had grown from just the two of us in a garage into a $2 billion company with over 4,000 employees.',\n",
       " 'we had just released our finest creation — the macintosh — a year earlier, and i had just turned 30. and then i got fired.',\n",
       " 'how can you get fired from a company you started?',\n",
       " 'well, as apple grew we hired someone who i thought was very talented to run the company with me, and for the first year or so things went well.',\n",
       " 'but then our visions of the future began to diverge and eventually we had a falling out.',\n",
       " 'when we did, our board of directors sided with him.',\n",
       " 'so at 30 i was out.',\n",
       " 'and very publicly out.',\n",
       " 'what had been the focus of my entire adult life was gone, and it was devastating.',\n",
       " 'i really didn’t know what to do for a few months.',\n",
       " 'i felt that i had let the previous generation of entrepreneurs down — that i had dropped the baton as it was being passed to me.',\n",
       " 'i met with david packard and bob noyce and tried to apologize for screwing up so badly.',\n",
       " 'i was a very public failure, and i even thought about running away from the valley.',\n",
       " 'but something slowly began to dawn on me — i still loved what i did.',\n",
       " 'the turn of events at apple had not changed that one bit.',\n",
       " 'i had been rejected, but i was still in love.',\n",
       " 'and so i decided to start over.',\n",
       " 'i didn’t see it then, but it turned out that getting fired from apple was the best thing that could have ever happened to me.',\n",
       " 'the heaviness of being successful was replaced by the lightness of being a beginner again, less sure about everything.',\n",
       " 'it freed me to enter one of the most creative periods of my life.',\n",
       " 'during the next five years, i started a company named next, another company named pixar, and fell in love with an amazing woman who would become my wife.',\n",
       " 'pixar went on to create the world’s first computer animated feature film, toy story, and is now the most successful animation studio in the world.',\n",
       " 'in a remarkable turn of events, apple bought next, i returned to apple, and the technology we developed at next is at the heart of apple’s current renaissance.',\n",
       " 'and laurene and i have a wonderful family together.',\n",
       " 'i’m pretty sure none of this would have happened if i hadn’t been fired from apple.',\n",
       " 'it was awful tasting medicine, but i guess the patient needed it.',\n",
       " 'sometimes life hits you in the head with a brick.',\n",
       " 'don’t lose faith.',\n",
       " 'i’m convinced that the only thing that kept me going was that i loved what i did.',\n",
       " 'you’ve got to find what you love.',\n",
       " 'and that is as true for your work as it is for your lovers.',\n",
       " 'your work is going to fill a large part of your life, and the only way to be truly satisfied is to do what you believe is great work.',\n",
       " 'and the only way to do great work is to love what you do.',\n",
       " 'if you haven’t found it yet, keep looking.',\n",
       " 'don’t settle.',\n",
       " 'as with all matters of the heart, you’ll know when you find it.',\n",
       " 'and, like any great relationship, it just gets better and better as the years roll on.',\n",
       " 'so keep looking until you find it.',\n",
       " 'don’t settle.',\n",
       " 'my third story is about death.',\n",
       " 'when i was 17, i read a quote that went something like: “if you live each day as if it was your last, someday you’ll most certainly be right.” it made an impression on me, and since then, for the past 33 years, i have looked in the mirror every morning and asked myself: “if today were the last day of my life, would i want to do what i am about to do today?” and whenever the answer has been “no” for too many days in a row, i know i need to change something.',\n",
       " 'remembering that i’ll be dead soon is the most important tool i’ve ever encountered to help me make the big choices in life.',\n",
       " 'because almost everything — all external expectations, all pride, all fear of embarrassment or failure — these things just fall away in the face of death, leaving only what is truly important.',\n",
       " 'remembering that you are going to die is the best way i know to avoid the trap of thinking you have something to lose.',\n",
       " 'you are already naked.',\n",
       " 'there is no reason not to follow your heart.',\n",
       " 'about a year ago i was diagnosed with cancer.',\n",
       " 'i had a scan at 7:30 in the morning, and it clearly showed a tumor on my pancreas.',\n",
       " 'i didn’t even know what a pancreas was.',\n",
       " 'the doctors told me this was almost certainly a type of cancer that is incurable, and that i should expect to live no longer than three to six months.',\n",
       " 'my doctor advised me to go home and get my affairs in order, which is doctor’s code for prepare to die.',\n",
       " 'it means to try to tell your kids everything you thought you’d have the next 10 years to tell them in just a few months.',\n",
       " 'it means to make sure everything is buttoned up so that it will be as easy as possible for your family.',\n",
       " 'it means to say your goodbyes.',\n",
       " 'i lived with that diagnosis all day.',\n",
       " 'later that evening i had a biopsy, where they stuck an endoscope down my throat, through my stomach and into my intestines, put a needle into my pancreas and got a few cells from the tumor.',\n",
       " 'i was sedated, but my wife, who was there, told me that when they viewed the cells under a microscope the doctors started crying because it turned out to be a very rare form of pancreatic cancer that is curable with surgery.',\n",
       " 'i had the surgery and i’m fine now.',\n",
       " 'this was the closest i’ve been to facing death, and i hope it’s the closest i get for a few more decades.',\n",
       " 'having lived through it, i can now say this to you with a bit more certainty than when death was a useful but purely intellectual concept:\\n\\nno one wants to die.',\n",
       " 'even people who want to go to heaven don’t want to die to get there.',\n",
       " 'and yet death is the destination we all share.',\n",
       " 'no one has ever escaped it.',\n",
       " 'and that is as it should be, because death is very likely the single best invention of life.',\n",
       " 'it is life’s change agent.',\n",
       " 'it clears out the old to make way for the new.',\n",
       " 'right now the new is you, but someday not too long from now, you will gradually become the old and be cleared away.',\n",
       " 'sorry to be so dramatic, but it is quite true.',\n",
       " 'your time is limited, so don’t waste it living someone else’s life.',\n",
       " 'don’t be trapped by dogma — which is living with the results of other people’s thinking.',\n",
       " 'don’t let the noise of others’ opinions drown out your own inner voice.',\n",
       " 'and most important, have the courage to follow your heart and intuition.',\n",
       " 'they somehow already know what you truly want to become.',\n",
       " 'everything else is secondary.',\n",
       " 'when i was young, there was an amazing publication called the whole earth catalog, which was one of the bibles of my generation.',\n",
       " 'it was created by a fellow named stewart brand not far from here in menlo park, and he brought it to life with his poetic touch.',\n",
       " 'this was in the late 1960s, before personal computers and desktop publishing, so it was all made with typewriters, scissors and polaroid cameras.',\n",
       " 'it was sort of like google in paperback form, 35 years before google came along: it was idealistic, and overflowing with neat tools and great notions.',\n",
       " 'stewart and his team put out several issues of the whole earth catalog, and then when it had run its course, they put out a final issue.',\n",
       " 'it was the mid-1970s, and i was your age.',\n",
       " 'on the back cover of their final issue was a photograph of an early morning country road, the kind you might find yourself hitchhiking on if you were so adventurous.',\n",
       " 'beneath it were the words: “stay hungry.',\n",
       " 'stay foolish.” it was their farewell message as they signed off.',\n",
       " 'stay hungry.',\n",
       " 'stay foolish.',\n",
       " 'and i have always wished that for myself.',\n",
       " 'and now, as you graduate to begin anew, i wish that for you.',\n",
       " 'stay hungry.',\n",
       " 'stay foolish.',\n",
       " 'thank you all very much.']"
      ]
     },
     "execution_count": 7,
     "metadata": {},
     "output_type": "execute_result"
    }
   ],
   "source": [
    "sentences = nltk.sent_tokenize(paragraph)\n",
    "sentences[:10]"
   ]
  },
  {
   "cell_type": "code",
   "execution_count": 5,
   "metadata": {},
   "outputs": [
    {
     "data": {
      "text/plain": [
       "['i am honored to be with you today at your commencement from one of the finest universities in the world. i never graduated from college. truth be told, this is the closest i’ve ever gotten to a college graduation. today i want to tell you three stories from my life. that’s it. no big deal. just three stories.',\n",
       " 'related to this story\\n2005 stanford commencement coverage\\nthe first story is about connecting the dots.',\n",
       " 'i dropped out of reed college after the first 6 months, but then stayed around as a drop-in for another 18 months or so before i really quit. so why did i drop out?',\n",
       " 'it started before i was born. my biological mother was a young, unwed college graduate student, and she decided to put me up for adoption. she felt very strongly that i should be adopted by college graduates, so everything was all set for me to be adopted at birth by a lawyer and his wife. except that when i popped out they decided at the last minute that they really wanted a girl. so my parents, who were on a waiting list, got a call in the middle of the night asking: “we have an unexpected baby boy; do you want him?” they said: “of course.” my biological mother later found out that my mother had never graduated from college and that my father had never graduated from high school. she refused to sign the final adoption papers. she only relented a few months later when my parents promised that i would someday go to college.',\n",
       " 'and 17 years later i did go to college. but i naively chose a college that was almost as expensive as stanford, and all of my working-class parents’ savings were being spent on my college tuition. after six months, i couldn’t see the value in it. i had no idea what i wanted to do with my life and no idea how college was going to help me figure it out. and here i was spending all of the money my parents had saved their entire life. so i decided to drop out and trust that it would all work out ok. it was pretty scary at the time, but looking back it was one of the best decisions i ever made. the minute i dropped out i could stop taking the required classes that didn’t interest me, and begin dropping in on the ones that looked interesting.',\n",
       " 'it wasn’t all romantic. i didn’t have a dorm room, so i slept on the floor in friends’ rooms, i returned coke bottles for the 5¢ deposits to buy food with, and i would walk the 7 miles across town every sunday night to get one good meal a week at the hare krishna temple. i loved it. and much of what i stumbled into by following my curiosity and intuition turned out to be priceless later on. let me give you one example:',\n",
       " 'reed college at that time offered perhaps the best calligraphy instruction in the country. throughout the campus every poster, every label on every drawer, was beautifully hand calligraphed. because i had dropped out and didn’t have to take the normal classes, i decided to take a calligraphy class to learn how to do this. i learned about serif and sans serif typefaces, about varying the amount of space between different letter combinations, about what makes great typography great. it was beautiful, historical, artistically subtle in a way that science can’t capture, and i found it fascinating.',\n",
       " 'none of this had even a hope of any practical application in my life. but 10 years later, when we were designing the first macintosh computer, it all came back to me. and we designed it all into the mac. it was the first computer with beautiful typography. if i had never dropped in on that single course in college, the mac would have never had multiple typefaces or proportionally spaced fonts. and since windows just copied the mac, it’s likely that no personal computer would have them. if i had never dropped out, i would have never dropped in on this calligraphy class, and personal computers might not have the wonderful typography that they do. of course it was impossible to connect the dots looking forward when i was in college. but it was very, very clear looking backward 10 years later.',\n",
       " 'again, you can’t connect the dots looking forward; you can only connect them looking backward. so you have to trust that the dots will somehow connect in your future. you have to trust in something — your gut, destiny, life, karma, whatever. this approach has never let me down, and it has made all the difference in my life.',\n",
       " 'my second story is about love and loss.']"
      ]
     },
     "execution_count": 5,
     "metadata": {},
     "output_type": "execute_result"
    }
   ],
   "source": [
    "sentences[0:5]"
   ]
  },
  {
   "cell_type": "code",
   "execution_count": 6,
   "metadata": {},
   "outputs": [
    {
     "data": {
      "text/plain": [
       "['honor today commenc one finest univers world never graduat colleg truth told closest ever gotten colleg graduat today want tell three stori life big deal three stori',\n",
       " 'relat stori 2005 stanford commenc coverag first stori connect dot',\n",
       " 'drop reed colleg first 6 month stay around drop anoth 18 month realli quit drop',\n",
       " 'start born biolog mother young unw colleg graduat student decid put adopt felt strongli adopt colleg graduat everyth set adopt birth lawyer wife except pop decid last minut realli want girl parent wait list got call middl night ask unexpect babi boy want said cours biolog mother later found mother never graduat colleg father never graduat high school refus sign final adopt paper relent month later parent promis would someday go colleg',\n",
       " '17 year later go colleg naiv chose colleg almost expens stanford work class parent save spent colleg tuition six month see valu idea want life idea colleg go help figur spend money parent save entir life decid drop trust would work ok pretti scari time look back one best decis ever made minut drop could stop take requir class interest begin drop one look interest',\n",
       " 'romant dorm room slept floor friend room return coke bottl 5 deposit buy food would walk 7 mile across town everi sunday night get one good meal week hare krishna templ love much stumbl follow curios intuit turn priceless later let give one exampl',\n",
       " 'reed colleg time offer perhap best calligraphi instruct countri throughout campu everi poster everi label everi drawer beauti hand calligraph drop take normal class decid take calligraphi class learn learn serif san serif typefac vari amount space differ letter combin make great typographi great beauti histor artist subtl way scienc captur found fascin',\n",
       " 'none even hope practic applic life 10 year later design first macintosh comput came back design mac first comput beauti typographi never drop singl cours colleg mac would never multipl typefac proport space font sinc window copi mac like person comput would never drop would never drop calligraphi class person comput might wonder typographi cours imposs connect dot look forward colleg clear look backward 10 year later',\n",
       " 'connect dot look forward connect look backward trust dot somehow connect futur trust someth gut destini life karma whatev approach never let made differ life',\n",
       " 'second stori love loss',\n",
       " 'lucki found love earli life woz start appl parent garag 20 work hard 10 year appl grown two us garag 2 billion compani 4 000 employe releas finest creation macintosh year earlier turn 30 got fire get fire compani start well appl grew hire someon thought talent run compani first year thing went well vision futur began diverg eventu fall board director side 30 publicli focu entir adult life gone devast',\n",
       " 'realli know month felt let previou gener entrepreneur drop baton pass met david packard bob noyc tri apolog screw badli public failur even thought run away valley someth slowli began dawn still love turn event appl chang one bit reject still love decid start',\n",
       " 'see turn get fire appl best thing could ever happen heavi success replac light beginn less sure everyth freed enter one creativ period life',\n",
       " 'next five year start compani name next anoth compani name pixar fell love amaz woman would becom wife pixar went creat world first comput anim featur film toy stori success anim studio world remark turn event appl bought next return appl technolog develop next heart appl current renaiss lauren wonder famili togeth',\n",
       " 'pretti sure none would happen fire appl aw tast medicin guess patient need sometim life hit head brick lose faith convinc thing kept go love got find love true work lover work go fill larg part life way truli satisfi believ great work way great work love found yet keep look settl matter heart know find like great relationship get better better year roll keep look find settl',\n",
       " 'third stori death',\n",
       " '17 read quot went someth like live day last someday certainli right made impress sinc past 33 year look mirror everi morn ask today last day life would want today whenev answer mani day row know need chang someth',\n",
       " 'rememb dead soon import tool ever encount help make big choic life almost everyth extern expect pride fear embarrass failur thing fall away face death leav truli import rememb go die best way know avoid trap think someth lose alreadi nake reason follow heart',\n",
       " 'year ago diagnos cancer scan 7 30 morn clearli show tumor pancrea even know pancrea doctor told almost certainli type cancer incur expect live longer three six month doctor advis go home get affair order doctor code prepar die mean tri tell kid everyth thought next 10 year tell month mean make sure everyth button easi possibl famili mean say goodby',\n",
       " 'live diagnosi day later even biopsi stuck endoscop throat stomach intestin put needl pancrea got cell tumor sedat wife told view cell microscop doctor start cri turn rare form pancreat cancer curabl surgeri surgeri fine',\n",
       " 'closest face death hope closest get decad live say bit certainti death use pure intellectu concept',\n",
       " 'one want die even peopl want go heaven want die get yet death destin share one ever escap death like singl best invent life life chang agent clear old make way new right new someday long gradual becom old clear away sorri dramat quit true',\n",
       " 'time limit wast live someon els life trap dogma live result peopl think let nois other opinion drown inner voic import courag follow heart intuit somehow alreadi know truli want becom everyth els secondari',\n",
       " 'young amaz public call whole earth catalog one bibl gener creat fellow name stewart brand far menlo park brought life poetic touch late 1960 person comput desktop publish made typewrit scissor polaroid camera sort like googl paperback form 35 year googl came along idealist overflow neat tool great notion',\n",
       " 'stewart team put sever issu whole earth catalog run cours put final issu mid 1970 age back cover final issu photograph earli morn countri road kind might find hitchhik adventur beneath word stay hungri stay foolish farewel messag sign stay hungri stay foolish alway wish graduat begin anew wish',\n",
       " 'stay hungri stay foolish',\n",
       " 'thank much']"
      ]
     },
     "execution_count": 6,
     "metadata": {},
     "output_type": "execute_result"
    }
   ],
   "source": [
    "import re\n",
    "ps = PorterStemmer()\n",
    "corpus = []\n",
    "\n",
    "for sentence in sentences:\n",
    "    result = re.sub('[^a-zA-Z0-9]', ' ', sentence).split()\n",
    "    result = [ps.stem(word) for word in result if word not in stopwords.words(\"english\")]\n",
    "    result = ' '.join(result)\n",
    "    corpus.append(result)\n",
    "    \n",
    "corpus"
   ]
  },
  {
   "cell_type": "code",
   "execution_count": null,
   "metadata": {},
   "outputs": [],
   "source": []
  },
  {
   "cell_type": "code",
   "execution_count": null,
   "metadata": {},
   "outputs": [],
   "source": []
  }
 ],
 "metadata": {
  "kernelspec": {
   "display_name": "Python 3",
   "language": "python",
   "name": "python3"
  },
  "language_info": {
   "codemirror_mode": {
    "name": "ipython",
    "version": 3
   },
   "file_extension": ".py",
   "mimetype": "text/x-python",
   "name": "python",
   "nbconvert_exporter": "python",
   "pygments_lexer": "ipython3",
   "version": "3.7.7"
  }
 },
 "nbformat": 4,
 "nbformat_minor": 4
}
