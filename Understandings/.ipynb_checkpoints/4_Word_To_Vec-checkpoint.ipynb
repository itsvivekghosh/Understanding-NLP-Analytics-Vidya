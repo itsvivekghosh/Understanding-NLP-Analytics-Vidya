{
 "cells": [
  {
   "cell_type": "code",
   "execution_count": 1,
   "metadata": {},
   "outputs": [],
   "source": [
    "import nltk\n",
    "import pandas as pd\n",
    "import numpy as np\n",
    "import re"
   ]
  },
  {
   "cell_type": "code",
   "execution_count": 2,
   "metadata": {},
   "outputs": [
    {
     "data": {
      "text/plain": [
       "'I am honored to be with you today at your commencement from one of the finest universities in the world. I never graduated from college. Truth be told, this is the closest I’ve ever gotten to a college graduation. Today I want to tell you three stories from my life. That’s it. No big deal. Just three stories.\\n\\nRelated to this story\\n2005 Stanford Commencement coverage\\nThe first story is about connecting the dots.\\n\\nI dropped out of Reed College after the first 6 months, but then stayed around as a drop-in for another 18 months or so before I really quit. So why did I drop out?\\n\\nIt started before I was born. My biological mother was a young, unwed college graduate student, and she decided to put me up for adoption. She felt very strongly that I should be adopted by college graduates, so everything was all set for me to be adopted at birth by a lawyer and his wife. Except that when I popped out they decided at the last minute that they really wanted a girl. So my parents, who were on a waiting list, got a call in the middle of the night asking: “We have an unexpected baby boy; do you want him?” They said: “Of course.” My biological mother later found out that my mother had never graduated from college and that my father had never graduated from high school. She refused to sign the final adoption papers. She only relented a few months later when my parents promised that I would someday go to college.\\n\\nAnd 17 years later I did go to college. But I naively chose a college that was almost as expensive as Stanford, and all of my working-class parents’ savings were being spent on my college tuition. After six months, I couldn’t see the value in it. I had no idea what I wanted to do with my life and no idea how college was going to help me figure it out. And here I was spending all of the money my parents had saved their entire life. So I decided to drop out and trust that it would all work out OK. It was pretty scary at the time, but looking back it was one of the best decisions I ever made. The minute I dropped out I could stop taking the required classes that didn’t interest me, and begin dropping in on the ones that looked interesting.\\n\\nIt wasn’t all romantic. I didn’t have a dorm room, so I slept on the floor in friends’ rooms, I returned Coke bottles for the 5¢ deposits to buy food with, and I would walk the 7 miles across town every Sunday night to get one good meal a week at the Hare Krishna temple. I loved it. And much of what I stumbled into by following my curiosity and intuition turned out to be priceless later on. Let me give you one example:\\n\\nReed College at that time offered perhaps the best calligraphy instruction in the country. Throughout the campus every poster, every label on every drawer, was beautifully hand calligraphed. Because I had dropped out and didn’t have to take the normal classes, I decided to take a calligraphy class to learn how to do this. I learned about serif and sans serif typefaces, about varying the amount of space between different letter combinations, about what makes great typography great. It was beautiful, historical, artistically subtle in a way that science can’t capture, and I found it fascinating.\\n\\nNone of this had even a hope of any practical application in my life. But 10 years later, when we were designing the first Macintosh computer, it all came back to me. And we designed it all into the Mac. It was the first computer with beautiful typography. If I had never dropped in on that single course in college, the Mac would have never had multiple typefaces or proportionally spaced fonts. And since Windows just copied the Mac, it’s likely that no personal computer would have them. If I had never dropped out, I would have never dropped in on this calligraphy class, and personal computers might not have the wonderful typography that they do. Of course it was impossible to connect the dots looking forward when I was in college. But it was very, very clear looking backward 10 years later.\\n\\nAgain, you can’t connect the dots looking forward; you can only connect them looking backward. So you have to trust that the dots will somehow connect in your future. You have to trust in something — your gut, destiny, life, karma, whatever. This approach has never let me down, and it has made all the difference in my life.\\n\\nMy second story is about love and loss.\\n\\nI was lucky — I found what I loved to do early in life. Woz and I started Apple in my parents’ garage when I was 20. We worked hard, and in 10 years Apple had grown from just the two of us in a garage into a $2 billion company with over 4,000 employees. We had just released our finest creation — the Macintosh — a year earlier, and I had just turned 30. And then I got fired. How can you get fired from a company you started? Well, as Apple grew we hired someone who I thought was very talented to run the company with me, and for the first year or so things went well. But then our visions of the future began to diverge and eventually we had a falling out. When we did, our Board of Directors sided with him. So at 30 I was out. And very publicly out. What had been the focus of my entire adult life was gone, and it was devastating.\\n\\nI really didn’t know what to do for a few months. I felt that I had let the previous generation of entrepreneurs down — that I had dropped the baton as it was being passed to me. I met with David Packard and Bob Noyce and tried to apologize for screwing up so badly. I was a very public failure, and I even thought about running away from the valley. But something slowly began to dawn on me — I still loved what I did. The turn of events at Apple had not changed that one bit. I had been rejected, but I was still in love. And so I decided to start over.\\n\\nI didn’t see it then, but it turned out that getting fired from Apple was the best thing that could have ever happened to me. The heaviness of being successful was replaced by the lightness of being a beginner again, less sure about everything. It freed me to enter one of the most creative periods of my life.\\n\\nDuring the next five years, I started a company named NeXT, another company named Pixar, and fell in love with an amazing woman who would become my wife. Pixar went on to create the world’s first computer animated feature film, Toy Story, and is now the most successful animation studio in the world. In a remarkable turn of events, Apple bought NeXT, I returned to Apple, and the technology we developed at NeXT is at the heart of Apple’s current renaissance. And Laurene and I have a wonderful family together.\\n\\nI’m pretty sure none of this would have happened if I hadn’t been fired from Apple. It was awful tasting medicine, but I guess the patient needed it. Sometimes life hits you in the head with a brick. Don’t lose faith. I’m convinced that the only thing that kept me going was that I loved what I did. You’ve got to find what you love. And that is as true for your work as it is for your lovers. Your work is going to fill a large part of your life, and the only way to be truly satisfied is to do what you believe is great work. And the only way to do great work is to love what you do. If you haven’t found it yet, keep looking. Don’t settle. As with all matters of the heart, you’ll know when you find it. And, like any great relationship, it just gets better and better as the years roll on. So keep looking until you find it. Don’t settle.\\n\\nMy third story is about death.\\n\\nWhen I was 17, I read a quote that went something like: “If you live each day as if it was your last, someday you’ll most certainly be right.” It made an impression on me, and since then, for the past 33 years, I have looked in the mirror every morning and asked myself: “If today were the last day of my life, would I want to do what I am about to do today?” And whenever the answer has been “No” for too many days in a row, I know I need to change something.\\n\\nRemembering that I’ll be dead soon is the most important tool I’ve ever encountered to help me make the big choices in life. Because almost everything — all external expectations, all pride, all fear of embarrassment or failure — these things just fall away in the face of death, leaving only what is truly important. Remembering that you are going to die is the best way I know to avoid the trap of thinking you have something to lose. You are already naked. There is no reason not to follow your heart.\\n\\nAbout a year ago I was diagnosed with cancer. I had a scan at 7:30 in the morning, and it clearly showed a tumor on my pancreas. I didn’t even know what a pancreas was. The doctors told me this was almost certainly a type of cancer that is incurable, and that I should expect to live no longer than three to six months. My doctor advised me to go home and get my affairs in order, which is doctor’s code for prepare to die. It means to try to tell your kids everything you thought you’d have the next 10 years to tell them in just a few months. It means to make sure everything is buttoned up so that it will be as easy as possible for your family. It means to say your goodbyes.\\n\\nI lived with that diagnosis all day. Later that evening I had a biopsy, where they stuck an endoscope down my throat, through my stomach and into my intestines, put a needle into my pancreas and got a few cells from the tumor. I was sedated, but my wife, who was there, told me that when they viewed the cells under a microscope the doctors started crying because it turned out to be a very rare form of pancreatic cancer that is curable with surgery. I had the surgery and I’m fine now.\\n\\nThis was the closest I’ve been to facing death, and I hope it’s the closest I get for a few more decades. Having lived through it, I can now say this to you with a bit more certainty than when death was a useful but purely intellectual concept:\\n\\nNo one wants to die. Even people who want to go to heaven don’t want to die to get there. And yet death is the destination we all share. No one has ever escaped it. And that is as it should be, because Death is very likely the single best invention of Life. It is Life’s change agent. It clears out the old to make way for the new. Right now the new is you, but someday not too long from now, you will gradually become the old and be cleared away. Sorry to be so dramatic, but it is quite true.\\n\\nYour time is limited, so don’t waste it living someone else’s life. Don’t be trapped by dogma — which is living with the results of other people’s thinking. Don’t let the noise of others’ opinions drown out your own inner voice. And most important, have the courage to follow your heart and intuition. They somehow already know what you truly want to become. Everything else is secondary.\\n\\nWhen I was young, there was an amazing publication called The Whole Earth Catalog, which was one of the bibles of my generation. It was created by a fellow named Stewart Brand not far from here in Menlo Park, and he brought it to life with his poetic touch. This was in the late 1960s, before personal computers and desktop publishing, so it was all made with typewriters, scissors and Polaroid cameras. It was sort of like Google in paperback form, 35 years before Google came along: It was idealistic, and overflowing with neat tools and great notions.\\n\\nStewart and his team put out several issues of The Whole Earth Catalog, and then when it had run its course, they put out a final issue. It was the mid-1970s, and I was your age. On the back cover of their final issue was a photograph of an early morning country road, the kind you might find yourself hitchhiking on if you were so adventurous. Beneath it were the words: “Stay Hungry. Stay Foolish.” It was their farewell message as they signed off. Stay Hungry. Stay Foolish. And I have always wished that for myself. And now, as you graduate to begin anew, I wish that for you.\\n\\nStay Hungry. Stay Foolish.\\n\\nThank you all very much.'"
      ]
     },
     "execution_count": 2,
     "metadata": {},
     "output_type": "execute_result"
    }
   ],
   "source": [
    "paragraph = open(\"../Learning/read.txt\", encoding='utf-8').read()\n",
    "paragraph"
   ]
  },
  {
   "cell_type": "code",
   "execution_count": 3,
   "metadata": {},
   "outputs": [],
   "source": [
    "from gensim.models import Word2Vec\n",
    "from nltk.corpus import stopwords\n",
    "wl = nltk.stem.WordNetLemmatizer()\n",
    "wl"
   ]
  },
  {
   "cell_type": "code",
   "execution_count": 4,
   "metadata": {},
   "outputs": [
    {
     "data": {
      "text/plain": [
       "['I am honored to be with you today at your commencement from one of the finest universities in the world.',\n",
       " 'I never graduated from college.',\n",
       " 'Truth be told, this is the closest I’ve ever gotten to a college graduation.',\n",
       " 'Today I want to tell you three stories from my life.',\n",
       " 'That’s it.',\n",
       " 'No big deal.',\n",
       " 'Just three stories.',\n",
       " 'Related to this story\\n2005 Stanford Commencement coverage\\nThe first story is about connecting the dots.',\n",
       " 'I dropped out of Reed College after the first 6 months, but then stayed around as a drop-in for another 18 months or so before I really quit.',\n",
       " 'So why did I drop out?',\n",
       " 'It started before I was born.',\n",
       " 'My biological mother was a young, unwed college graduate student, and she decided to put me up for adoption.',\n",
       " 'She felt very strongly that I should be adopted by college graduates, so everything was all set for me to be adopted at birth by a lawyer and his wife.',\n",
       " 'Except that when I popped out they decided at the last minute that they really wanted a girl.',\n",
       " 'So my parents, who were on a waiting list, got a call in the middle of the night asking: “We have an unexpected baby boy; do you want him?” They said: “Of course.” My biological mother later found out that my mother had never graduated from college and that my father had never graduated from high school.',\n",
       " 'She refused to sign the final adoption papers.',\n",
       " 'She only relented a few months later when my parents promised that I would someday go to college.',\n",
       " 'And 17 years later I did go to college.',\n",
       " 'But I naively chose a college that was almost as expensive as Stanford, and all of my working-class parents’ savings were being spent on my college tuition.',\n",
       " 'After six months, I couldn’t see the value in it.',\n",
       " 'I had no idea what I wanted to do with my life and no idea how college was going to help me figure it out.',\n",
       " 'And here I was spending all of the money my parents had saved their entire life.',\n",
       " 'So I decided to drop out and trust that it would all work out OK.',\n",
       " 'It was pretty scary at the time, but looking back it was one of the best decisions I ever made.',\n",
       " 'The minute I dropped out I could stop taking the required classes that didn’t interest me, and begin dropping in on the ones that looked interesting.',\n",
       " 'It wasn’t all romantic.',\n",
       " 'I didn’t have a dorm room, so I slept on the floor in friends’ rooms, I returned Coke bottles for the 5¢ deposits to buy food with, and I would walk the 7 miles across town every Sunday night to get one good meal a week at the Hare Krishna temple.',\n",
       " 'I loved it.',\n",
       " 'And much of what I stumbled into by following my curiosity and intuition turned out to be priceless later on.',\n",
       " 'Let me give you one example:\\n\\nReed College at that time offered perhaps the best calligraphy instruction in the country.',\n",
       " 'Throughout the campus every poster, every label on every drawer, was beautifully hand calligraphed.',\n",
       " 'Because I had dropped out and didn’t have to take the normal classes, I decided to take a calligraphy class to learn how to do this.',\n",
       " 'I learned about serif and sans serif typefaces, about varying the amount of space between different letter combinations, about what makes great typography great.',\n",
       " 'It was beautiful, historical, artistically subtle in a way that science can’t capture, and I found it fascinating.',\n",
       " 'None of this had even a hope of any practical application in my life.',\n",
       " 'But 10 years later, when we were designing the first Macintosh computer, it all came back to me.',\n",
       " 'And we designed it all into the Mac.',\n",
       " 'It was the first computer with beautiful typography.',\n",
       " 'If I had never dropped in on that single course in college, the Mac would have never had multiple typefaces or proportionally spaced fonts.',\n",
       " 'And since Windows just copied the Mac, it’s likely that no personal computer would have them.',\n",
       " 'If I had never dropped out, I would have never dropped in on this calligraphy class, and personal computers might not have the wonderful typography that they do.',\n",
       " 'Of course it was impossible to connect the dots looking forward when I was in college.',\n",
       " 'But it was very, very clear looking backward 10 years later.',\n",
       " 'Again, you can’t connect the dots looking forward; you can only connect them looking backward.',\n",
       " 'So you have to trust that the dots will somehow connect in your future.',\n",
       " 'You have to trust in something — your gut, destiny, life, karma, whatever.',\n",
       " 'This approach has never let me down, and it has made all the difference in my life.',\n",
       " 'My second story is about love and loss.',\n",
       " 'I was lucky — I found what I loved to do early in life.',\n",
       " 'Woz and I started Apple in my parents’ garage when I was 20.',\n",
       " 'We worked hard, and in 10 years Apple had grown from just the two of us in a garage into a $2 billion company with over 4,000 employees.',\n",
       " 'We had just released our finest creation — the Macintosh — a year earlier, and I had just turned 30.',\n",
       " 'And then I got fired.',\n",
       " 'How can you get fired from a company you started?',\n",
       " 'Well, as Apple grew we hired someone who I thought was very talented to run the company with me, and for the first year or so things went well.',\n",
       " 'But then our visions of the future began to diverge and eventually we had a falling out.',\n",
       " 'When we did, our Board of Directors sided with him.',\n",
       " 'So at 30 I was out.',\n",
       " 'And very publicly out.',\n",
       " 'What had been the focus of my entire adult life was gone, and it was devastating.',\n",
       " 'I really didn’t know what to do for a few months.',\n",
       " 'I felt that I had let the previous generation of entrepreneurs down — that I had dropped the baton as it was being passed to me.',\n",
       " 'I met with David Packard and Bob Noyce and tried to apologize for screwing up so badly.',\n",
       " 'I was a very public failure, and I even thought about running away from the valley.',\n",
       " 'But something slowly began to dawn on me — I still loved what I did.',\n",
       " 'The turn of events at Apple had not changed that one bit.',\n",
       " 'I had been rejected, but I was still in love.',\n",
       " 'And so I decided to start over.',\n",
       " 'I didn’t see it then, but it turned out that getting fired from Apple was the best thing that could have ever happened to me.',\n",
       " 'The heaviness of being successful was replaced by the lightness of being a beginner again, less sure about everything.',\n",
       " 'It freed me to enter one of the most creative periods of my life.',\n",
       " 'During the next five years, I started a company named NeXT, another company named Pixar, and fell in love with an amazing woman who would become my wife.',\n",
       " 'Pixar went on to create the world’s first computer animated feature film, Toy Story, and is now the most successful animation studio in the world.',\n",
       " 'In a remarkable turn of events, Apple bought NeXT, I returned to Apple, and the technology we developed at NeXT is at the heart of Apple’s current renaissance.',\n",
       " 'And Laurene and I have a wonderful family together.',\n",
       " 'I’m pretty sure none of this would have happened if I hadn’t been fired from Apple.',\n",
       " 'It was awful tasting medicine, but I guess the patient needed it.',\n",
       " 'Sometimes life hits you in the head with a brick.',\n",
       " 'Don’t lose faith.',\n",
       " 'I’m convinced that the only thing that kept me going was that I loved what I did.',\n",
       " 'You’ve got to find what you love.',\n",
       " 'And that is as true for your work as it is for your lovers.',\n",
       " 'Your work is going to fill a large part of your life, and the only way to be truly satisfied is to do what you believe is great work.',\n",
       " 'And the only way to do great work is to love what you do.',\n",
       " 'If you haven’t found it yet, keep looking.',\n",
       " 'Don’t settle.',\n",
       " 'As with all matters of the heart, you’ll know when you find it.',\n",
       " 'And, like any great relationship, it just gets better and better as the years roll on.',\n",
       " 'So keep looking until you find it.',\n",
       " 'Don’t settle.',\n",
       " 'My third story is about death.',\n",
       " 'When I was 17, I read a quote that went something like: “If you live each day as if it was your last, someday you’ll most certainly be right.” It made an impression on me, and since then, for the past 33 years, I have looked in the mirror every morning and asked myself: “If today were the last day of my life, would I want to do what I am about to do today?” And whenever the answer has been “No” for too many days in a row, I know I need to change something.',\n",
       " 'Remembering that I’ll be dead soon is the most important tool I’ve ever encountered to help me make the big choices in life.',\n",
       " 'Because almost everything — all external expectations, all pride, all fear of embarrassment or failure — these things just fall away in the face of death, leaving only what is truly important.',\n",
       " 'Remembering that you are going to die is the best way I know to avoid the trap of thinking you have something to lose.',\n",
       " 'You are already naked.',\n",
       " 'There is no reason not to follow your heart.',\n",
       " 'About a year ago I was diagnosed with cancer.',\n",
       " 'I had a scan at 7:30 in the morning, and it clearly showed a tumor on my pancreas.',\n",
       " 'I didn’t even know what a pancreas was.',\n",
       " 'The doctors told me this was almost certainly a type of cancer that is incurable, and that I should expect to live no longer than three to six months.',\n",
       " 'My doctor advised me to go home and get my affairs in order, which is doctor’s code for prepare to die.',\n",
       " 'It means to try to tell your kids everything you thought you’d have the next 10 years to tell them in just a few months.',\n",
       " 'It means to make sure everything is buttoned up so that it will be as easy as possible for your family.',\n",
       " 'It means to say your goodbyes.',\n",
       " 'I lived with that diagnosis all day.',\n",
       " 'Later that evening I had a biopsy, where they stuck an endoscope down my throat, through my stomach and into my intestines, put a needle into my pancreas and got a few cells from the tumor.',\n",
       " 'I was sedated, but my wife, who was there, told me that when they viewed the cells under a microscope the doctors started crying because it turned out to be a very rare form of pancreatic cancer that is curable with surgery.',\n",
       " 'I had the surgery and I’m fine now.',\n",
       " 'This was the closest I’ve been to facing death, and I hope it’s the closest I get for a few more decades.',\n",
       " 'Having lived through it, I can now say this to you with a bit more certainty than when death was a useful but purely intellectual concept:\\n\\nNo one wants to die.',\n",
       " 'Even people who want to go to heaven don’t want to die to get there.',\n",
       " 'And yet death is the destination we all share.',\n",
       " 'No one has ever escaped it.',\n",
       " 'And that is as it should be, because Death is very likely the single best invention of Life.',\n",
       " 'It is Life’s change agent.',\n",
       " 'It clears out the old to make way for the new.',\n",
       " 'Right now the new is you, but someday not too long from now, you will gradually become the old and be cleared away.',\n",
       " 'Sorry to be so dramatic, but it is quite true.',\n",
       " 'Your time is limited, so don’t waste it living someone else’s life.',\n",
       " 'Don’t be trapped by dogma — which is living with the results of other people’s thinking.',\n",
       " 'Don’t let the noise of others’ opinions drown out your own inner voice.',\n",
       " 'And most important, have the courage to follow your heart and intuition.',\n",
       " 'They somehow already know what you truly want to become.',\n",
       " 'Everything else is secondary.',\n",
       " 'When I was young, there was an amazing publication called The Whole Earth Catalog, which was one of the bibles of my generation.',\n",
       " 'It was created by a fellow named Stewart Brand not far from here in Menlo Park, and he brought it to life with his poetic touch.',\n",
       " 'This was in the late 1960s, before personal computers and desktop publishing, so it was all made with typewriters, scissors and Polaroid cameras.',\n",
       " 'It was sort of like Google in paperback form, 35 years before Google came along: It was idealistic, and overflowing with neat tools and great notions.',\n",
       " 'Stewart and his team put out several issues of The Whole Earth Catalog, and then when it had run its course, they put out a final issue.',\n",
       " 'It was the mid-1970s, and I was your age.',\n",
       " 'On the back cover of their final issue was a photograph of an early morning country road, the kind you might find yourself hitchhiking on if you were so adventurous.',\n",
       " 'Beneath it were the words: “Stay Hungry.',\n",
       " 'Stay Foolish.” It was their farewell message as they signed off.',\n",
       " 'Stay Hungry.',\n",
       " 'Stay Foolish.',\n",
       " 'And I have always wished that for myself.',\n",
       " 'And now, as you graduate to begin anew, I wish that for you.',\n",
       " 'Stay Hungry.',\n",
       " 'Stay Foolish.',\n",
       " 'Thank you all very much.']"
      ]
     },
     "execution_count": 4,
     "metadata": {},
     "output_type": "execute_result"
    }
   ],
   "source": [
    "sentences = nltk.sent_tokenize(paragraph)\n",
    "sentences"
   ]
  },
  {
   "cell_type": "code",
   "execution_count": 5,
   "metadata": {},
   "outputs": [
    {
     "ename": "NameError",
     "evalue": "name 'wl' is not defined",
     "output_type": "error",
     "traceback": [
      "\u001b[1;31m---------------------------------------------------------------------------\u001b[0m",
      "\u001b[1;31mNameError\u001b[0m                                 Traceback (most recent call last)",
      "\u001b[1;32m<ipython-input-5-f79ca0da4d75>\u001b[0m in \u001b[0;36m<module>\u001b[1;34m\u001b[0m\n\u001b[0;32m      2\u001b[0m \u001b[1;32mfor\u001b[0m \u001b[0msentence\u001b[0m \u001b[1;32min\u001b[0m \u001b[0msentences\u001b[0m\u001b[1;33m:\u001b[0m\u001b[1;33m\u001b[0m\u001b[1;33m\u001b[0m\u001b[0m\n\u001b[0;32m      3\u001b[0m     \u001b[0mresult\u001b[0m \u001b[1;33m=\u001b[0m \u001b[0mre\u001b[0m\u001b[1;33m.\u001b[0m\u001b[0msub\u001b[0m\u001b[1;33m(\u001b[0m\u001b[1;34m'[^a-zA-Z]'\u001b[0m\u001b[1;33m,\u001b[0m \u001b[1;34m' '\u001b[0m\u001b[1;33m,\u001b[0m \u001b[0msentence\u001b[0m\u001b[1;33m)\u001b[0m\u001b[1;33m.\u001b[0m\u001b[0mlower\u001b[0m\u001b[1;33m(\u001b[0m\u001b[1;33m)\u001b[0m\u001b[1;33m.\u001b[0m\u001b[0msplit\u001b[0m\u001b[1;33m(\u001b[0m\u001b[1;33m)\u001b[0m\u001b[1;33m\u001b[0m\u001b[1;33m\u001b[0m\u001b[0m\n\u001b[1;32m----> 4\u001b[1;33m     \u001b[0mresult\u001b[0m \u001b[1;33m=\u001b[0m \u001b[1;33m[\u001b[0m\u001b[0mwl\u001b[0m\u001b[1;33m.\u001b[0m\u001b[0mlemmatize\u001b[0m\u001b[1;33m(\u001b[0m\u001b[0mword\u001b[0m\u001b[1;33m)\u001b[0m \u001b[1;32mfor\u001b[0m \u001b[0mword\u001b[0m \u001b[1;32min\u001b[0m \u001b[0mresult\u001b[0m \u001b[1;32mif\u001b[0m \u001b[0mword\u001b[0m \u001b[1;32mnot\u001b[0m \u001b[1;32min\u001b[0m \u001b[0mstopwords\u001b[0m\u001b[1;33m.\u001b[0m\u001b[0mwords\u001b[0m\u001b[1;33m(\u001b[0m\u001b[1;34m'english'\u001b[0m\u001b[1;33m)\u001b[0m\u001b[1;33m]\u001b[0m\u001b[1;33m\u001b[0m\u001b[1;33m\u001b[0m\u001b[0m\n\u001b[0m\u001b[0;32m      5\u001b[0m     \u001b[0mcorpus\u001b[0m\u001b[1;33m.\u001b[0m\u001b[0mappend\u001b[0m\u001b[1;33m(\u001b[0m\u001b[0mresult\u001b[0m\u001b[1;33m)\u001b[0m\u001b[1;33m\u001b[0m\u001b[1;33m\u001b[0m\u001b[0m\n\u001b[0;32m      6\u001b[0m \u001b[0mcorpus\u001b[0m\u001b[1;33m[\u001b[0m\u001b[1;33m:\u001b[0m\u001b[1;36m10\u001b[0m\u001b[1;33m]\u001b[0m\u001b[1;33m\u001b[0m\u001b[1;33m\u001b[0m\u001b[0m\n",
      "\u001b[1;32m<ipython-input-5-f79ca0da4d75>\u001b[0m in \u001b[0;36m<listcomp>\u001b[1;34m(.0)\u001b[0m\n\u001b[0;32m      2\u001b[0m \u001b[1;32mfor\u001b[0m \u001b[0msentence\u001b[0m \u001b[1;32min\u001b[0m \u001b[0msentences\u001b[0m\u001b[1;33m:\u001b[0m\u001b[1;33m\u001b[0m\u001b[1;33m\u001b[0m\u001b[0m\n\u001b[0;32m      3\u001b[0m     \u001b[0mresult\u001b[0m \u001b[1;33m=\u001b[0m \u001b[0mre\u001b[0m\u001b[1;33m.\u001b[0m\u001b[0msub\u001b[0m\u001b[1;33m(\u001b[0m\u001b[1;34m'[^a-zA-Z]'\u001b[0m\u001b[1;33m,\u001b[0m \u001b[1;34m' '\u001b[0m\u001b[1;33m,\u001b[0m \u001b[0msentence\u001b[0m\u001b[1;33m)\u001b[0m\u001b[1;33m.\u001b[0m\u001b[0mlower\u001b[0m\u001b[1;33m(\u001b[0m\u001b[1;33m)\u001b[0m\u001b[1;33m.\u001b[0m\u001b[0msplit\u001b[0m\u001b[1;33m(\u001b[0m\u001b[1;33m)\u001b[0m\u001b[1;33m\u001b[0m\u001b[1;33m\u001b[0m\u001b[0m\n\u001b[1;32m----> 4\u001b[1;33m     \u001b[0mresult\u001b[0m \u001b[1;33m=\u001b[0m \u001b[1;33m[\u001b[0m\u001b[0mwl\u001b[0m\u001b[1;33m.\u001b[0m\u001b[0mlemmatize\u001b[0m\u001b[1;33m(\u001b[0m\u001b[0mword\u001b[0m\u001b[1;33m)\u001b[0m \u001b[1;32mfor\u001b[0m \u001b[0mword\u001b[0m \u001b[1;32min\u001b[0m \u001b[0mresult\u001b[0m \u001b[1;32mif\u001b[0m \u001b[0mword\u001b[0m \u001b[1;32mnot\u001b[0m \u001b[1;32min\u001b[0m \u001b[0mstopwords\u001b[0m\u001b[1;33m.\u001b[0m\u001b[0mwords\u001b[0m\u001b[1;33m(\u001b[0m\u001b[1;34m'english'\u001b[0m\u001b[1;33m)\u001b[0m\u001b[1;33m]\u001b[0m\u001b[1;33m\u001b[0m\u001b[1;33m\u001b[0m\u001b[0m\n\u001b[0m\u001b[0;32m      5\u001b[0m     \u001b[0mcorpus\u001b[0m\u001b[1;33m.\u001b[0m\u001b[0mappend\u001b[0m\u001b[1;33m(\u001b[0m\u001b[0mresult\u001b[0m\u001b[1;33m)\u001b[0m\u001b[1;33m\u001b[0m\u001b[1;33m\u001b[0m\u001b[0m\n\u001b[0;32m      6\u001b[0m \u001b[0mcorpus\u001b[0m\u001b[1;33m[\u001b[0m\u001b[1;33m:\u001b[0m\u001b[1;36m10\u001b[0m\u001b[1;33m]\u001b[0m\u001b[1;33m\u001b[0m\u001b[1;33m\u001b[0m\u001b[0m\n",
      "\u001b[1;31mNameError\u001b[0m: name 'wl' is not defined"
     ]
    }
   ],
   "source": [
    "corpus = []\n",
    "for sentence in sentences:\n",
    "    result = re.sub('[^a-zA-Z]', ' ', sentence).lower().split()\n",
    "    result = [wl.lemmatize(word) for word in result if word not in stopwords.words('english')]\n",
    "    corpus.append(result)\n",
    "corpus[:10]"
   ]
  },
  {
   "cell_type": "code",
   "execution_count": null,
   "metadata": {},
   "outputs": [],
   "source": [
    "model = Word2Vec(corpus, min_count=1)\n",
    "model.wv.vocab"
   ]
  },
  {
   "cell_type": "code",
   "execution_count": null,
   "metadata": {},
   "outputs": [],
   "source": [
    "vector = model.wv['honored']\n",
    "vector"
   ]
  },
  {
   "cell_type": "code",
   "execution_count": null,
   "metadata": {},
   "outputs": [],
   "source": [
    "similar = model.wv.most_similar('honored')\n",
    "similar"
   ]
  },
  {
   "cell_type": "code",
   "execution_count": null,
   "metadata": {},
   "outputs": [],
   "source": [
    "vector = model.wv['thank']\n",
    "vector"
   ]
  },
  {
   "cell_type": "code",
   "execution_count": null,
   "metadata": {},
   "outputs": [],
   "source": [
    "similar = model.wv.most_similar('thank')\n",
    "similar"
   ]
  },
  {
   "cell_type": "code",
   "execution_count": null,
   "metadata": {},
   "outputs": [],
   "source": [
    "similar = model.wv.most_similar('employee')\n",
    "similar"
   ]
  },
  {
   "cell_type": "code",
   "execution_count": null,
   "metadata": {},
   "outputs": [],
   "source": []
  }
 ],
 "metadata": {
  "kernelspec": {
   "display_name": "Python 3",
   "language": "python",
   "name": "python3"
  },
  "language_info": {
   "codemirror_mode": {
    "name": "ipython",
    "version": 3
   },
   "file_extension": ".py",
   "mimetype": "text/x-python",
   "name": "python",
   "nbconvert_exporter": "python",
   "pygments_lexer": "ipython3",
   "version": "3.7.7"
  }
 },
 "nbformat": 4,
 "nbformat_minor": 4
}
